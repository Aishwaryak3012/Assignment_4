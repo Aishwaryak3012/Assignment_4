{
 "cells": [
  {
   "cell_type": "markdown",
   "id": "1ea2a038",
   "metadata": {},
   "source": [
    "### Q.1 Write a Python program to create a lambda function that adds 25 to a given number passed in as an argument."
   ]
  },
  {
   "cell_type": "code",
   "execution_count": 6,
   "id": "5107e6f7",
   "metadata": {},
   "outputs": [
    {
     "name": "stdout",
     "output_type": "stream",
     "text": [
      "Enter the number that u want to add:10\n",
      "35\n"
     ]
    }
   ],
   "source": [
    "num1 = int(input(\"Enter the number that u want to add:\"))\n",
    "add_25 = lambda x: x + 25\n",
    "result1 = add_25(num1)\n",
    "print(result1)"
   ]
  },
  {
   "cell_type": "markdown",
   "id": "02ce7e82",
   "metadata": {},
   "source": [
    "### Q.2 Write a Python program to triple all numbers of a given list of integers. Use Python map."
   ]
  },
  {
   "cell_type": "code",
   "execution_count": 7,
   "id": "592796b9",
   "metadata": {},
   "outputs": [
    {
     "name": "stdout",
     "output_type": "stream",
     "text": [
      "Enter the list of numbers that u want :1,2,3,4,5,6,7\n",
      "Triple of list numbers:\n",
      "[3, 6, 9, 12, 15, 18, 21]\n"
     ]
    }
   ],
   "source": [
    "def triple_number(num):\n",
    "    return num * 3\n",
    "sample_list = list(map(int,input(\"Enter the list of numbers that u want :\").split(\",\")))\n",
    "tripled_numbers = list(map(triple_number, sample_list))\n",
    "print(\"Triple of list numbers:\")\n",
    "print(tripled_numbers)"
   ]
  },
  {
   "cell_type": "markdown",
   "id": "97ec321d",
   "metadata": {},
   "source": [
    "### Q.3 Write a Python program to square the elements of a list using map() function."
   ]
  },
  {
   "cell_type": "code",
   "execution_count": 8,
   "id": "f76aa464",
   "metadata": {},
   "outputs": [
    {
     "name": "stdout",
     "output_type": "stream",
     "text": [
      "Enter the number :4,5,2,9\n"
     ]
    },
    {
     "data": {
      "text/plain": [
       "[16, 25, 4, 81]"
      ]
     },
     "execution_count": 8,
     "metadata": {},
     "output_type": "execute_result"
    }
   ],
   "source": [
    "def square(num):\n",
    "    return num**2\n",
    "n = list(map(int,input(\"Enter the number :\").split(\",\")))\n",
    "list(map(square,n))"
   ]
  },
  {
   "cell_type": "markdown",
   "id": "f8384ce4",
   "metadata": {},
   "source": [
    "# OR"
   ]
  },
  {
   "cell_type": "code",
   "execution_count": 9,
   "id": "320138d8",
   "metadata": {},
   "outputs": [
    {
     "name": "stdout",
     "output_type": "stream",
     "text": [
      "Enter the number :4,5,2,9\n",
      "Square of list numbers: [16, 25, 4, 81]\n"
     ]
    }
   ],
   "source": [
    "def square_number(num):\n",
    "    return num ** 2\n",
    "sample_list = list(map(int,input('Enter the number :').split(\",\")))\n",
    "squared_numbers = list(map(square_number, sample_list))\n",
    "print(\"Square of list numbers:\",squared_numbers)"
   ]
  }
 ],
 "metadata": {
  "kernelspec": {
   "display_name": "Python 3 (ipykernel)",
   "language": "python",
   "name": "python3"
  },
  "language_info": {
   "codemirror_mode": {
    "name": "ipython",
    "version": 3
   },
   "file_extension": ".py",
   "mimetype": "text/x-python",
   "name": "python",
   "nbconvert_exporter": "python",
   "pygments_lexer": "ipython3",
   "version": "3.10.9"
  }
 },
 "nbformat": 4,
 "nbformat_minor": 5
}
